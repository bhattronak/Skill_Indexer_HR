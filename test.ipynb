{
 "cells": [
  {
   "cell_type": "code",
   "execution_count": 2,
   "metadata": {},
   "outputs": [],
   "source": [
    "from Resume_scrapper import extract_skills,extract_emails,extract_phone_number,extract_education\n",
    "from pdf_to_text_scrapper_function import get_resume_text as grt\n",
    "import os\n",
    "\n",
    "job_description = input('enter the JD: ')\n",
    "path = input('Enter the path of the resume: ')\n",
    "# resume_text= grt(path) \n",
    "\n",
    "skills_jd = set(extract_skills(job_description))\n"
   ]
  },
  {
   "cell_type": "code",
   "execution_count": 6,
   "metadata": {},
   "outputs": [],
   "source": [
    "    \n",
    "\n",
    "def smi(path):\n",
    "\n",
    "    ''' this function calculates a score for a person according to the\n",
    "    number of matching skills (with JD)'''\n",
    "\n",
    "    resume_text= grt(path) \n",
    "    skills_resume = extract_skills(resume_text)\n",
    "    skills_resume = set(skills_resume)\n",
    "    sk_temp = skills_jd - skills_resume\n",
    "    score = (len(skills_jd) - len(sk_temp))/ len(skills_jd)\n",
    "    phone_number = extract_phone_number(resume_text)\n",
    "    return phone_number, score*100\n",
    "\n",
    "def list_resume(path):\n",
    "\n",
    "    '''this function returns a list of all the files in the path specified'''\n",
    "\n",
    "    path_resumes = []\n",
    "    for filename in os.listdir(path):\n",
    "        if 'pdf' in filename:\n",
    "            path_resumes.append(path + '/' + filename)\n",
    "    return path_resumes\n",
    "    \n",
    "def rank_smi(path):\n",
    "\n",
    "    '''this function returns score of all the resumes present in the directory'''\n",
    "\n",
    "    score_dict = dict()\n",
    "    paths = list_resume(path)\n",
    "    for person in paths:\n",
    "        phone_number, score = smi(person)\n",
    "        score_dict[phone_number] = score\n",
    "    score_dict = dict(sorted(score_dict.items(), key=lambda x: x[1]))\n",
    "    return score_dict\n"
   ]
  },
  {
   "cell_type": "code",
   "execution_count": 7,
   "metadata": {},
   "outputs": [
    {
     "data": {
      "text/plain": [
       "{'+91 9474435582': 0.0,\n",
       " None: 0.0,\n",
       " '2014 - 2018': 0.0,\n",
       " '+91 706551 1554': 0.0,\n",
       " '+91-7678468708': 33.33333333333333}"
      ]
     },
     "execution_count": 7,
     "metadata": {},
     "output_type": "execute_result"
    }
   ],
   "source": [
    "rank_smi(path)"
   ]
  },
  {
   "cell_type": "code",
   "execution_count": 8,
   "metadata": {},
   "outputs": [
    {
     "name": "stderr",
     "output_type": "stream",
     "text": [
      "Exception in Tkinter callback\n",
      "Traceback (most recent call last):\n",
      "  File \"/Users/lakshyasoni/opt/anaconda3/lib/python3.9/tkinter/__init__.py\", line 1892, in __call__\n",
      "    return self.func(*args)\n",
      "  File \"/var/folders/8w/gj9s1syx5tb49zt9k6gz5fw00000gn/T/ipykernel_19097/2803980498.py\", line 15, in run_analysis\n",
      "    score_dict = rank_smi(path_)\n",
      "  File \"/var/folders/8w/gj9s1syx5tb49zt9k6gz5fw00000gn/T/ipykernel_19097/1686672297.py\", line 31, in rank_smi\n",
      "    phone_number, score = smi(person)\n",
      "  File \"/var/folders/8w/gj9s1syx5tb49zt9k6gz5fw00000gn/T/ipykernel_19097/1686672297.py\", line 10, in smi\n",
      "    score = (len(skills_jd) - len(sk_temp))/ len(skills_jd)\n",
      "ZeroDivisionError: division by zero\n",
      "Exception in Tkinter callback\n",
      "Traceback (most recent call last):\n",
      "  File \"/Users/lakshyasoni/opt/anaconda3/lib/python3.9/tkinter/__init__.py\", line 1892, in __call__\n",
      "    return self.func(*args)\n",
      "  File \"/var/folders/8w/gj9s1syx5tb49zt9k6gz5fw00000gn/T/ipykernel_19097/2803980498.py\", line 15, in run_analysis\n",
      "    score_dict = rank_smi(path_)\n",
      "  File \"/var/folders/8w/gj9s1syx5tb49zt9k6gz5fw00000gn/T/ipykernel_19097/1686672297.py\", line 31, in rank_smi\n",
      "    phone_number, score = smi(person)\n",
      "  File \"/var/folders/8w/gj9s1syx5tb49zt9k6gz5fw00000gn/T/ipykernel_19097/1686672297.py\", line 10, in smi\n",
      "    score = (len(skills_jd) - len(sk_temp))/ len(skills_jd)\n",
      "ZeroDivisionError: division by zero\n",
      "Exception in Tkinter callback\n",
      "Traceback (most recent call last):\n",
      "  File \"/Users/lakshyasoni/opt/anaconda3/lib/python3.9/tkinter/__init__.py\", line 1892, in __call__\n",
      "    return self.func(*args)\n",
      "  File \"/var/folders/8w/gj9s1syx5tb49zt9k6gz5fw00000gn/T/ipykernel_19097/2803980498.py\", line 15, in run_analysis\n",
      "    score_dict = rank_smi(path_)\n",
      "  File \"/var/folders/8w/gj9s1syx5tb49zt9k6gz5fw00000gn/T/ipykernel_19097/1686672297.py\", line 31, in rank_smi\n",
      "    phone_number, score = smi(person)\n",
      "  File \"/var/folders/8w/gj9s1syx5tb49zt9k6gz5fw00000gn/T/ipykernel_19097/1686672297.py\", line 10, in smi\n",
      "    score = (len(skills_jd) - len(sk_temp))/ len(skills_jd)\n",
      "ZeroDivisionError: division by zero\n",
      "Exception in Tkinter callback\n",
      "Traceback (most recent call last):\n",
      "  File \"/Users/lakshyasoni/opt/anaconda3/lib/python3.9/tkinter/__init__.py\", line 1892, in __call__\n",
      "    return self.func(*args)\n",
      "  File \"/var/folders/8w/gj9s1syx5tb49zt9k6gz5fw00000gn/T/ipykernel_19097/2803980498.py\", line 15, in run_analysis\n",
      "    score_dict = rank_smi(path_)\n",
      "  File \"/var/folders/8w/gj9s1syx5tb49zt9k6gz5fw00000gn/T/ipykernel_19097/1686672297.py\", line 31, in rank_smi\n",
      "    phone_number, score = smi(person)\n",
      "  File \"/var/folders/8w/gj9s1syx5tb49zt9k6gz5fw00000gn/T/ipykernel_19097/1686672297.py\", line 10, in smi\n",
      "    score = (len(skills_jd) - len(sk_temp))/ len(skills_jd)\n",
      "ZeroDivisionError: division by zero\n"
     ]
    }
   ],
   "source": [
    "import tkinter as tk\n",
    "from Resume_scrapper import extract_skills,extract_emails,extract_phone_number,extract_education\n",
    "from pdf_to_text_scrapper_function import get_resume_text as grt\n",
    "import os\n",
    "\n",
    "def set_job_description(job_description):\n",
    "    global skills_jd\n",
    "    skills_jd = set(extract_skills(job_description))\n",
    "\n",
    "def set_path(path):\n",
    "    global path_\n",
    "    path_ = path\n",
    "\n",
    "def run_analysis():\n",
    "    score_dict = rank_smi(path_)\n",
    "    tk.Label(root, text=\"Scores:\").grid(row=3, column=0, pady=10)\n",
    "    for i, (k, v) in enumerate(score_dict.items()):\n",
    "        tk.Label(root, text=f\"{k}: {v}\").grid(row=4+i, column=0, pady=10)\n",
    "\n",
    "root = tk.Tk()\n",
    "root.geometry(\"600x500\")\n",
    "root.configure(bg=\"#E5E5E5\")\n",
    "\n",
    "tk.Label(root, text=\"Job Description\", bg=\"#E5E5E5\").grid(row=0, column=0, pady=10)\n",
    "entry_job_description = tk.Text(root, height=10, width=80)\n",
    "entry_job_description.grid(row=0, column=1, padx=10)\n",
    "entry_job_description.bind(\"<FocusOut>\", lambda args: set_job_description(entry_job_description.get(\"1.0\", \"end-1c\")))\n",
    "\n",
    "tk.Label(root, text=\"Path to Folder containing Resumes\", bg=\"#E5E5E5\").grid(row=1, column=0, pady=10)\n",
    "entry_path = tk.Entry(root, width=80)\n",
    "entry_path.grid(row=1, column=1, padx=10)\n",
    "entry_path.bind(\"<FocusOut>\", lambda args: set_path(entry_path.get()))\n",
    "\n",
    "run_button = tk.Button(root, text=\"Run Analysis\", command=run_analysis)\n",
    "run_button.grid(row=2, column=0, pady=10)\n",
    "\n",
    "root.mainloop()\n"
   ]
  },
  {
   "cell_type": "code",
   "execution_count": null,
   "metadata": {},
   "outputs": [],
   "source": []
  }
 ],
 "metadata": {
  "kernelspec": {
   "display_name": "Python 3.9.12 ('base')",
   "language": "python",
   "name": "python3"
  },
  "language_info": {
   "codemirror_mode": {
    "name": "ipython",
    "version": 3
   },
   "file_extension": ".py",
   "mimetype": "text/x-python",
   "name": "python",
   "nbconvert_exporter": "python",
   "pygments_lexer": "ipython3",
   "version": "3.9.12"
  },
  "orig_nbformat": 4,
  "vscode": {
   "interpreter": {
    "hash": "6ed8aca7fed9ecfd3a9ccd057add9e6df72a63213251f7c714703fbd2684411d"
   }
  }
 },
 "nbformat": 4,
 "nbformat_minor": 2
}
